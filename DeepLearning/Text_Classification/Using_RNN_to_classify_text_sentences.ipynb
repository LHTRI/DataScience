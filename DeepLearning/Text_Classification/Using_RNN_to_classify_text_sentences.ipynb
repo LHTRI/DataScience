{
  "nbformat": 4,
  "nbformat_minor": 0,
  "metadata": {
    "accelerator": "GPU",
    "colab": {
      "name": "Text Classification_Starter Code.ipynb",
      "provenance": [],
      "collapsed_sections": [],
      "toc_visible": true
    },
    "kernelspec": {
      "display_name": "Python 3",
      "language": "python",
      "name": "python3"
    },
    "language_info": {
      "codemirror_mode": {
        "name": "ipython",
        "version": 3
      },
      "file_extension": ".py",
      "mimetype": "text/x-python",
      "name": "python",
      "nbconvert_exporter": "python",
      "pygments_lexer": "ipython3",
      "version": "3.8.5"
    }
  },
  "cells": [
    {
      "cell_type": "markdown",
      "metadata": {
        "id": "3AkEoCKaHdpj"
      },
      "source": [
        "\n",
        "In this notebook, we will try the process of implementing RNN with Keras in order to classify text sentences.\n",
        "\n",
        "I.   **Firstly**, we'll import useful packages.\n",
        "\n",
        "II.   **Then**, we'll load the data and create a word embedding matrix using Glove.\n",
        "\n",
        "III.  **We'll try a simple RNN model** and then we will evaluate its performances.\n",
        "\n",
        "IV. Finally, we'll use techniques to increase our model's accuracy."
      ]
    },
    {
      "cell_type": "markdown",
      "metadata": {
        "id": "_xY_w9I1cZni"
      },
      "source": [
        "**Task 1:** Setting Fre GPU in this Google Colab notebook."
      ]
    },
    {
      "cell_type": "markdown",
      "metadata": {
        "id": "H4iAL0E0ciDS"
      },
      "source": [
        "## Mounting Google Drive locally\n",
        "**Task 2:** Mount the Google Driver into the Google Colab Driver.\n"
      ]
    },
    {
      "cell_type": "code",
      "metadata": {
        "id": "I8iz8Rp8H5pG",
        "colab": {
          "base_uri": "https://localhost:8080/"
        },
        "outputId": "af7cbe54-a816-4ddf-e9e2-5da5822cb959"
      },
      "source": [
        "## TYPE YOUR CODE for task 2 here:\n",
        "import os\n",
        "if 'COLAB_GPU' in os.environ:\n",
        "    from google.colab import drive\n",
        "    drive.mount('/content/gdrive')\n",
        "else:\n",
        "    print(\"I'm running on JupyterLab\")"
      ],
      "execution_count": 1,
      "outputs": [
        {
          "output_type": "stream",
          "text": [
            "Mounted at /content/gdrive\n"
          ],
          "name": "stdout"
        }
      ]
    },
    {
      "cell_type": "markdown",
      "metadata": {
        "id": "LeAakuO9cD5s"
      },
      "source": [
        "# I. Let import all useful packages."
      ]
    },
    {
      "cell_type": "code",
      "metadata": {
        "id": "no86DwmY2ren"
      },
      "source": [
        "import os\n",
        "import random\n",
        "import datetime\n",
        "import time\n",
        "import subprocess\n",
        "from glob import glob\n",
        "import operator\n",
        "import numpy as np\n",
        "import pandas as pd\n",
        "from collections import Counter\n",
        "import tensorflow as tf\n",
        "import keras\n",
        "\n",
        "from tensorflow.keras.layers import Dense, Input, LSTM, Embedding, Dropout, Activation\n",
        "from tensorflow.keras.layers import Bidirectional, GlobalMaxPool1D\n",
        "from tensorflow.keras.preprocessing.text import Tokenizer\n",
        "from tensorflow.keras.preprocessing.sequence import pad_sequences\n",
        "from tensorflow.keras.models import Model, load_model\n",
        "from tensorflow.keras.callbacks import Callback, ModelCheckpoint, TensorBoard, ReduceLROnPlateau, EarlyStopping\n",
        "from tensorflow.keras.models import Model, load_model\n",
        "from tensorflow.keras import initializers, regularizers, constraints, optimizers, layers\n",
        "from tensorflow.keras.utils import to_categorical\n",
        "from tensorflow.keras.metrics import Metric\n",
        "import tensorflow.keras.optimizers as Optimizer\n",
        "import tensorflow_addons as tfa\n",
        "\n",
        "from sklearn.model_selection import train_test_split\n",
        "from sklearn.metrics import confusion_matrix, f1_score, precision_score, recall_score\n",
        "\n",
        "import matplotlib.pyplot as plt\n",
        "import seaborn as sns\n",
        "import cv2\n"
      ],
      "execution_count": 2,
      "outputs": []
    },
    {
      "cell_type": "code",
      "metadata": {
        "colab": {
          "base_uri": "https://localhost:8080/"
        },
        "id": "xkvCSr4EfM4k",
        "outputId": "efbd174d-2794-4247-fa92-5583491dbdee"
      },
      "source": [
        "if 'COLAB_GPU' in os.environ:\n",
        "    !pip install ipython-autotime\n",
        "else:\n",
        "    print(\"I'm running on JupyterLab\")\n"
      ],
      "execution_count": 3,
      "outputs": [
        {
          "output_type": "stream",
          "text": [
            "Collecting ipython-autotime\n",
            "  Downloading https://files.pythonhosted.org/packages/3f/58/a4a65efcce5c81a67b6893ade862736de355a3a718af5533d30c991831ce/ipython_autotime-0.2.0-py2.py3-none-any.whl\n",
            "Requirement already satisfied: ipython in /usr/local/lib/python3.6/dist-packages (from ipython-autotime) (5.5.0)\n",
            "Requirement already satisfied: simplegeneric>0.8 in /usr/local/lib/python3.6/dist-packages (from ipython->ipython-autotime) (0.8.1)\n",
            "Requirement already satisfied: prompt-toolkit<2.0.0,>=1.0.4 in /usr/local/lib/python3.6/dist-packages (from ipython->ipython-autotime) (1.0.18)\n",
            "Requirement already satisfied: decorator in /usr/local/lib/python3.6/dist-packages (from ipython->ipython-autotime) (4.4.2)\n",
            "Requirement already satisfied: pexpect; sys_platform != \"win32\" in /usr/local/lib/python3.6/dist-packages (from ipython->ipython-autotime) (4.8.0)\n",
            "Requirement already satisfied: setuptools>=18.5 in /usr/local/lib/python3.6/dist-packages (from ipython->ipython-autotime) (50.3.2)\n",
            "Requirement already satisfied: pickleshare in /usr/local/lib/python3.6/dist-packages (from ipython->ipython-autotime) (0.7.5)\n",
            "Requirement already satisfied: pygments in /usr/local/lib/python3.6/dist-packages (from ipython->ipython-autotime) (2.6.1)\n",
            "Requirement already satisfied: traitlets>=4.2 in /usr/local/lib/python3.6/dist-packages (from ipython->ipython-autotime) (4.3.3)\n",
            "Requirement already satisfied: six>=1.9.0 in /usr/local/lib/python3.6/dist-packages (from prompt-toolkit<2.0.0,>=1.0.4->ipython->ipython-autotime) (1.15.0)\n",
            "Requirement already satisfied: wcwidth in /usr/local/lib/python3.6/dist-packages (from prompt-toolkit<2.0.0,>=1.0.4->ipython->ipython-autotime) (0.2.5)\n",
            "Requirement already satisfied: ptyprocess>=0.5 in /usr/local/lib/python3.6/dist-packages (from pexpect; sys_platform != \"win32\"->ipython->ipython-autotime) (0.6.0)\n",
            "Requirement already satisfied: ipython-genutils in /usr/local/lib/python3.6/dist-packages (from traitlets>=4.2->ipython->ipython-autotime) (0.2.0)\n",
            "Installing collected packages: ipython-autotime\n",
            "Successfully installed ipython-autotime-0.2.0\n"
          ],
          "name": "stdout"
        }
      ]
    },
    {
      "cell_type": "code",
      "metadata": {
        "colab": {
          "base_uri": "https://localhost:8080/"
        },
        "id": "Aw_GGfFdfM4l",
        "outputId": "3aed6071-10c4-482e-ea3b-68eb88a00e9b"
      },
      "source": [
        "%load_ext autoreload\n",
        "%autoreload 2\n",
        "%load_ext autotime\n",
        "%load_ext tensorboard\n",
        "%matplotlib inline\n"
      ],
      "execution_count": 4,
      "outputs": [
        {
          "output_type": "stream",
          "text": [
            "time: 5.82 ms\n"
          ],
          "name": "stdout"
        }
      ]
    },
    {
      "cell_type": "markdown",
      "metadata": {
        "id": "ZvFTfBIscRwC"
      },
      "source": [
        "**Task 3**: Copy the dataset from Google Drive into Colab"
      ]
    },
    {
      "cell_type": "code",
      "metadata": {
        "id": "MzzQsanZIZfg",
        "colab": {
          "base_uri": "https://localhost:8080/"
        },
        "outputId": "2e93f85a-4ef5-443d-d915-d3462631ba45"
      },
      "source": [
        "## TYPE YOUR CODE for task 3 here:\n",
        "if 'COLAB_GPU' in os.environ:\n",
        "    !cp \"{'/content/gdrive/My Drive/FUNIX_ASM_2/glove.6B.50d.txt.zip'}\"  .\n",
        "    !cp \"{'/content/gdrive/My Drive/FUNIX_ASM_2/train.csv.zip'}\"  .\n",
        "    !unzip -q  glove.6B.50d.txt.zip\n",
        "    !unzip -q  train.csv.zip\n",
        "    !rm glove.6B.50d.txt.zip\n",
        "    !rm  train.csv.zip\n",
        "else:\n",
        "    print(\"I'm running on JupyterLab\")\n"
      ],
      "execution_count": 5,
      "outputs": [
        {
          "output_type": "stream",
          "text": [
            "time: 20.1 s\n"
          ],
          "name": "stdout"
        }
      ]
    },
    {
      "cell_type": "markdown",
      "metadata": {
        "id": "D_GxFMl7dFJ-"
      },
      "source": [
        "# II. Load the data.\n",
        "\n",
        "## About dataset.\n",
        "An invalid question is defined as a question intended to make a statement rather than look for helpful answers. Some characteristics that can signify that a question is invalid:\n",
        "\n",
        "* Has a non-neutral tone.\n",
        "* Is disparaging or inflammatory.\n",
        "* Isn't grounded in reality.\n",
        "* Uses sexual content (incest, bestiality, pedophilia) for shock value, and not to seek genuine answers\n",
        "\n",
        "The data includes the question that was asked, and whether it was identified as invalid (target = 1). "
      ]
    },
    {
      "cell_type": "markdown",
      "metadata": {
        "id": "A9HhWwT-gpuN"
      },
      "source": [
        "**Task 4**: Load the dataset.\n",
        "* Load the data from CSV file.\n",
        "* Remove all the rows with NA values.\n",
        "* Split the data into 3 set: Training set, validation set and test set (0.9/0.05/0.05, random_seed = 9) with a same ratio of data number beween each class.\n",
        "* Print out these dataset's description.\n",
        "\n",
        "\n"
      ]
    },
    {
      "cell_type": "code",
      "metadata": {
        "id": "j9HMbZrqK1Rq",
        "colab": {
          "base_uri": "https://localhost:8080/"
        },
        "outputId": "da8f1ebb-7bf2-48f1-f66e-00fc0eb39a98"
      },
      "source": [
        "def load_data(data_link):\n",
        "    '''\n",
        "    input: data link.\n",
        "    output:\n",
        "        train_set, validation_set and test_set(0.90/0.05/0.05) without NA values.\n",
        "    '''\n",
        "    ## TYPE YOUR CODE for task 4 here:\n",
        "    df = pd.read_csv(data_link)\n",
        "    df.dropna(inplace=True)\n",
        "    train, val_test = train_test_split(df, test_size=0.1, random_state=9, stratify=df['target'])\n",
        "    validation, test = train_test_split(val_test, test_size=0.5, random_state=9, stratify=val_test['target'])\n",
        "    return train, validation, test\n",
        "\n",
        "train_set, validation_set, test_set = load_data('train.csv')\n",
        "print(train_set['target'].describe())\n",
        "print(validation_set['target'].describe())\n",
        "print(test_set['target'].describe())\n"
      ],
      "execution_count": 6,
      "outputs": [
        {
          "output_type": "stream",
          "text": [
            "count    1.175509e+06\n",
            "mean     6.187022e-02\n",
            "std      2.409198e-01\n",
            "min      0.000000e+00\n",
            "25%      0.000000e+00\n",
            "50%      0.000000e+00\n",
            "75%      0.000000e+00\n",
            "max      1.000000e+00\n",
            "Name: target, dtype: float64\n",
            "count    65306.000000\n",
            "mean         0.061863\n",
            "std          0.240908\n",
            "min          0.000000\n",
            "25%          0.000000\n",
            "50%          0.000000\n",
            "75%          0.000000\n",
            "max          1.000000\n",
            "Name: target, dtype: float64\n",
            "count    65307.000000\n",
            "mean         0.061877\n",
            "std          0.240934\n",
            "min          0.000000\n",
            "25%          0.000000\n",
            "50%          0.000000\n",
            "75%          0.000000\n",
            "max          1.000000\n",
            "Name: target, dtype: float64\n",
            "time: 3.32 s\n"
          ],
          "name": "stdout"
        }
      ]
    },
    {
      "cell_type": "markdown",
      "metadata": {
        "id": "sIcOnRkbqofC"
      },
      "source": [
        "# Encoding text data.\n",
        "Let declare some fundamental parameters first:"
      ]
    },
    {
      "cell_type": "code",
      "metadata": {
        "id": "0F3_zcCjHwzm",
        "colab": {
          "base_uri": "https://localhost:8080/"
        },
        "outputId": "fd58776f-7f39-43ff-99aa-a2517505d73e"
      },
      "source": [
        "embed_size = 50 # how big is each word vector\n",
        "max_features = 20000 # how many unique words to use (i.e num rows in embedding vector)\n",
        "max_len = 50 # max number of words in a question to use\n"
      ],
      "execution_count": 7,
      "outputs": [
        {
          "output_type": "stream",
          "text": [
            "time: 1.36 ms\n"
          ],
          "name": "stdout"
        }
      ]
    },
    {
      "cell_type": "markdown",
      "metadata": {
        "id": "vT8m71iixjxt"
      },
      "source": [
        "**Task 5:** Encode the dataset using Tokenizer and one-hot encoding vector.\n",
        "* Encode the text (question_text column) by turning each question text into a list of word indexes using [Tokenizer](https://stackoverflow.com/questions/51956000/what-does-keras-tokenizer-method-exactly-do) with **max_features** and all the text sentences from the training and the validation set. \n",
        "* Turn each list of word indexes into an equal length - **max_len** (with truncation or padding as needed) using [pad_sequences](https://keras.io/preprocessing/sequence/).\n",
        "* Encode the label (label column) using [to_categorical](https://keras.io/utils/) function on Keras."
      ]
    },
    {
      "cell_type": "code",
      "metadata": {
        "id": "Q1MZKNs4xmfP",
        "colab": {
          "base_uri": "https://localhost:8080/"
        },
        "outputId": "2aa1e99d-0395-4204-e7a7-12d948154a13"
      },
      "source": [
        "def encoding_textdata(train_set, validation_set, test_set, max_features, max_len):\n",
        "    '''\n",
        "    Input:\n",
        "    - Train/validation/test dataset.\n",
        "    - max_features, max_len.\n",
        "    Output:\n",
        "    - X train/validation/test, y train/validation/test.\n",
        "    - Tokenizer.\n",
        "    '''\n",
        "    ## TYPE YOUR CODE for task 5 here:\n",
        "    \n",
        "    tokenizer = Tokenizer(num_words=max_features, split=' ', filters='!\"#$%&()*+,-./:;<=>?@[\\\\]^_`{|}~\\t\\n', lower=True, oov_token=None)\n",
        "    # Fitting\n",
        "    tokenizer.fit_on_texts(train_set['question_text'])\n",
        "    tokenizer.fit_on_texts(validation_set['question_text'])\n",
        "    \n",
        "    data = [train_set, validation_set, test_set]\n",
        "    X = []\n",
        "    Y = []\n",
        "    for df in data:\n",
        "        x = df['question_text']\n",
        "        x = tokenizer.texts_to_sequences(x)\n",
        "        x = pad_sequences(x, maxlen=max_len, dtype=\"int32\", padding=\"pre\", truncating=\"pre\", value=0)\n",
        "        X.append(x)\n",
        "        y = df['target']\n",
        "        y = to_categorical(y, num_classes=2, dtype=\"float32\")\n",
        "        #y = [i[::-1] for i in y]\n",
        "        #y = np.array(y)\n",
        "        Y.append(y)\n",
        "    \n",
        "    X_tr, X_va, X_te = X\n",
        "    y_tr, y_va, y_te = Y\n",
        "\n",
        "    return  X_tr, X_va, X_te, y_tr, y_va, y_te, tokenizer\n",
        "    \n",
        "X_tr, X_va, X_te, y_tr, y_va, y_te, tokenizer = encoding_textdata(train_set, validation_set, test_set, max_features, max_len)\n"
      ],
      "execution_count": 14,
      "outputs": [
        {
          "output_type": "stream",
          "text": [
            "time: 40.2 s\n"
          ],
          "name": "stdout"
        }
      ]
    },
    {
      "cell_type": "markdown",
      "metadata": {
        "id": "9kpG-p30WUcc"
      },
      "source": [
        "**Task 6**: Create word embedding matrix.\n",
        "* Firstly, write a function to [load the GloVe dictionary.](https://medium.com/analytics-vidhya/basics-of-using-pre-trained-glove-vectors-in-python-d38905f356db)\n",
        "* Then, create a word embedding matrix using GloVe dictionary with these parameters:\n",
        "    - Word embedding matrix shape: (Number of word, embed_size).\n",
        "    - Embed size: 50.\n",
        "    - Number of words: The minimum of (max_features, len(word_index)), while word_index is the dictionary of word which contains in tokenizer.\n",
        "    - If a word occurs in GloVe dictionary, we should take its initialization value as in GloVe dictionary. Otherwise, take a normal random value with mean and std as mean and std of GloVe dictionary value.\n",
        "    \n",
        "\n"
      ]
    },
    {
      "cell_type": "code",
      "metadata": {
        "id": "47s8-SncWT3V",
        "colab": {
          "base_uri": "https://localhost:8080/"
        },
        "outputId": "7cd7835e-37ae-4cc8-a4f1-1f43ece23ab5"
      },
      "source": [
        "\n",
        "def get_coefs(word,*arr): \n",
        "    return word, np.asarray(arr, dtype='float32')\n",
        "def get_GloVe_dict(GloVe_link):\n",
        "    '''\n",
        "    input: GloVe link.\n",
        "    output: GloVe dictionary.\n",
        "    '''\n",
        "    ## TYPE YOUR CODE for task 6 here:\n",
        "    GloVe_dict = {}\n",
        "    with open(GloVe_link, 'r', encoding=\"utf-8\") as f:\n",
        "        for line in f:\n",
        "            values = line.split()\n",
        "            word = values[0]\n",
        "            word_vector = np.asarray(values[1:], dtype='float32')\n",
        "            GloVe_dict[word] = word_vector\n",
        "    return GloVe_dict\n",
        "\n",
        "GloVe_link = 'glove.6B.50d.txt'\n",
        "#GloVe_link = 'sample.txt'\n",
        "GloVe_dict = get_GloVe_dict(GloVe_link)\n"
      ],
      "execution_count": 15,
      "outputs": [
        {
          "output_type": "stream",
          "text": [
            "time: 5.55 s\n"
          ],
          "name": "stdout"
        }
      ]
    },
    {
      "cell_type": "code",
      "metadata": {
        "colab": {
          "base_uri": "https://localhost:8080/"
        },
        "id": "H64SFN4ifM4q",
        "outputId": "14509380-6616-4e07-a169-f0c511ef58c8"
      },
      "source": [
        "# Check size of word vector\n",
        "print(GloVe_dict['the'].shape)\n",
        "GloVe_dict['the']\n"
      ],
      "execution_count": 16,
      "outputs": [
        {
          "output_type": "stream",
          "text": [
            "(50,)\n"
          ],
          "name": "stdout"
        },
        {
          "output_type": "execute_result",
          "data": {
            "text/plain": [
              "array([ 4.1800e-01,  2.4968e-01, -4.1242e-01,  1.2170e-01,  3.4527e-01,\n",
              "       -4.4457e-02, -4.9688e-01, -1.7862e-01, -6.6023e-04, -6.5660e-01,\n",
              "        2.7843e-01, -1.4767e-01, -5.5677e-01,  1.4658e-01, -9.5095e-03,\n",
              "        1.1658e-02,  1.0204e-01, -1.2792e-01, -8.4430e-01, -1.2181e-01,\n",
              "       -1.6801e-02, -3.3279e-01, -1.5520e-01, -2.3131e-01, -1.9181e-01,\n",
              "       -1.8823e+00, -7.6746e-01,  9.9051e-02, -4.2125e-01, -1.9526e-01,\n",
              "        4.0071e+00, -1.8594e-01, -5.2287e-01, -3.1681e-01,  5.9213e-04,\n",
              "        7.4449e-03,  1.7778e-01, -1.5897e-01,  1.2041e-02, -5.4223e-02,\n",
              "       -2.9871e-01, -1.5749e-01, -3.4758e-01, -4.5637e-02, -4.4251e-01,\n",
              "        1.8785e-01,  2.7849e-03, -1.8411e-01, -1.1514e-01, -7.8581e-01],\n",
              "      dtype=float32)"
            ]
          },
          "metadata": {
            "tags": []
          },
          "execution_count": 16
        },
        {
          "output_type": "stream",
          "text": [
            "time: 4.47 ms\n"
          ],
          "name": "stdout"
        }
      ]
    },
    {
      "cell_type": "code",
      "metadata": {
        "id": "DXRyFSLtr4_k",
        "colab": {
          "base_uri": "https://localhost:8080/"
        },
        "outputId": "a8481f4b-898b-4e57-be19-2669044bd71c"
      },
      "source": [
        "def create_embedding_matrix(wordvector_dict, tokenizer, max_features):\n",
        "    '''\n",
        "    input: GloVe dictionaray, tokenizer from training and validation dataset, number of max features.\n",
        "    output: Word embedding matrix.\n",
        "    '''\n",
        "    \n",
        "    ## TYPE YOUR CODE for task 6 here:\n",
        "    number_words = min(len(wordvector_dict), max_features)\n",
        "    wordvector_embs = np.hstack(wordvector_dict.values())\n",
        "    mean, std = wordvector_embs.mean(), wordvector_embs.std()\n",
        "    embedding_matrix = np.random.normal(mean, std, (number_words, embed_size))\n",
        "    \n",
        "    for word, i in tokenizer.word_index.items():\n",
        "        if i >= number_words:\n",
        "            break\n",
        "        if word in wordvector_dict:\n",
        "            embedding_matrix[i] = wordvector_dict[word]\n",
        "       \n",
        "    return embedding_matrix\n",
        "\n",
        "embedding_matrix = create_embedding_matrix(GloVe_dict, tokenizer, max_features)\n"
      ],
      "execution_count": 17,
      "outputs": [
        {
          "output_type": "stream",
          "text": [
            "/usr/local/lib/python3.6/dist-packages/ipykernel_launcher.py:9: FutureWarning: arrays to stack must be passed as a \"sequence\" type such as list or tuple. Support for non-sequence iterables such as generators is deprecated as of NumPy 1.16 and will raise an error in the future.\n",
            "  if __name__ == '__main__':\n"
          ],
          "name": "stderr"
        },
        {
          "output_type": "stream",
          "text": [
            "time: 356 ms\n"
          ],
          "name": "stdout"
        }
      ]
    },
    {
      "cell_type": "code",
      "metadata": {
        "colab": {
          "base_uri": "https://localhost:8080/"
        },
        "id": "aW1tw6CbfM4r",
        "outputId": "0daa899b-ac1f-46db-9bdb-9aca97140cfa"
      },
      "source": [
        "# Check result\n",
        "embedding_matrix.shape"
      ],
      "execution_count": 18,
      "outputs": [
        {
          "output_type": "execute_result",
          "data": {
            "text/plain": [
              "(20000, 50)"
            ]
          },
          "metadata": {
            "tags": []
          },
          "execution_count": 18
        },
        {
          "output_type": "stream",
          "text": [
            "time: 2.09 ms\n"
          ],
          "name": "stdout"
        }
      ]
    },
    {
      "cell_type": "markdown",
      "metadata": {
        "id": "NWybjdQkqWrg"
      },
      "source": [
        "III. Modelling\n",
        "There are some steps we need to finish:\n",
        "Build the model.\n",
        "\n",
        "Compile the model.\n",
        "\n",
        "Train / fit the data to the model.\n",
        "\n",
        "Evaluate the model on the testing set."
      ]
    },
    {
      "cell_type": "markdown",
      "metadata": {
        "id": "I6AMfqQkqcET"
      },
      "source": [
        "## Build the model\n",
        "**Task 7:** We can build an easy model composed of different layers such as:\n",
        "* [Embedding](https://keras.io/layers/embeddings/) layer with max_features, embed_size and embedding_matrix.\n",
        "* [Bidirectional LSTM layer](https://keras.io/examples/imdb_bidirectional_lstm/) with number of hidden state = 50, dropout_rate = 0.1 and recurrent_dropout_rate = 0.1.\n",
        "* GlobalMaxPool1D.\n",
        "* Dense with number of unit = 50, activation = 'relu'.\n",
        "* Dropout with rate = 0.1.\n",
        "* Final dense with number of unit = number of class, activation = 'sigmoid'."
      ]
    },
    {
      "cell_type": "code",
      "metadata": {
        "id": "J7_eizWaqi_7",
        "colab": {
          "base_uri": "https://localhost:8080/"
        },
        "outputId": "4361457c-e661-4e75-8c78-3c1a7789b705"
      },
      "source": [
        "def create_model(max_len, max_features, embed_size, embedding_matrix):\n",
        "    '''\n",
        "    input: max_len, max_features, embed_size\n",
        "    output: model.\n",
        "    '''\n",
        "    ## TYPE YOUR CODE for task 7 here:\n",
        "    input_layer = Input((None,))\n",
        "    embedding_layer = Embedding(input_dim=max_features,\n",
        "                                output_dim=embed_size,\n",
        "                                input_length=max_len,\n",
        "                                weights=[embedding_matrix],\n",
        "                                mask_zero=True,\n",
        "                                trainable=False)(input_layer)\n",
        "    \n",
        "    bidirectional_layer = Bidirectional(LSTM(50, return_sequences=True, dropout=0.1, recurrent_dropout=0.1))(embedding_layer)\n",
        "    #bidirectional_layer = LSTM(1, return_sequences=True, dropout=0.1)(embedding_layer)\n",
        "                                        \n",
        "    globalmaxpool_layer = GlobalMaxPool1D()(bidirectional_layer)\n",
        "                                        \n",
        "    dense_layer = Dense(units=50, activation='relu')(globalmaxpool_layer)\n",
        "    \n",
        "    droput_layer = Dropout(0.1)(dense_layer)\n",
        "    \n",
        "    classify_layer = Dense(units=2, activation='sigmoid')(droput_layer)\n",
        "\n",
        "    model = Model(inputs=input_layer, outputs=classify_layer)\n",
        "    \n",
        "    \n",
        "    return model\n",
        "\n",
        "model = create_model(max_len, max_features, embed_size, embedding_matrix)\n"
      ],
      "execution_count": 19,
      "outputs": [
        {
          "output_type": "stream",
          "text": [
            "WARNING:tensorflow:Layer lstm will not use cuDNN kernel since it doesn't meet the cuDNN kernel criteria. It will use generic GPU kernel as fallback when running on GPU\n",
            "WARNING:tensorflow:Layer lstm will not use cuDNN kernel since it doesn't meet the cuDNN kernel criteria. It will use generic GPU kernel as fallback when running on GPU\n",
            "WARNING:tensorflow:Layer lstm will not use cuDNN kernel since it doesn't meet the cuDNN kernel criteria. It will use generic GPU kernel as fallback when running on GPU\n",
            "time: 5.82 s\n"
          ],
          "name": "stdout"
        }
      ]
    },
    {
      "cell_type": "markdown",
      "metadata": {
        "id": "lWcBKhzMux9Z"
      },
      "source": [
        "**Task 8:** Compile the model and setup the callback. Then print out the model summary.\n",
        "* [Compile](https://keras.io/models/model/#compile) the model with Adam Optimizaer, lr = 1e-2, suitable loss for binary classification problem and [\"F1-score\"](https://github.com/tensorflow/addons/issues/825) as metric.\n",
        "* Print out the model summary."
      ]
    },
    {
      "cell_type": "code",
      "metadata": {
        "colab": {
          "base_uri": "https://localhost:8080/"
        },
        "id": "DD-K4q8ZfM4t",
        "outputId": "94e69267-7d85-4dc4-8eaf-3ce4d60fe52c"
      },
      "source": [
        "def create_f1():\n",
        "    def f1_function(y_true, y_pred):\n",
        "        y_true_class = tf.argmax(y_true, axis=1)\n",
        "        y_pred_class = tf.argmax(y_pred, axis=1)\n",
        "        tp = tf.reduce_sum(y_true_class * y_pred_class)\n",
        "        tp = tf.cast(tp, 'float32')\n",
        "        predicted_positives = tf.reduce_sum(y_pred_class)\n",
        "        predicted_positives = tf.cast(predicted_positives, 'float32')\n",
        "        possible_positives = tf.reduce_sum(y_true_class)\n",
        "        possible_positives = tf.cast(possible_positives, 'float32')\n",
        "        return tp, predicted_positives, possible_positives\n",
        "    return f1_function\n",
        "\n",
        "class F1_Score(Metric):\n",
        "    def __init__(self, name='new_f1_score', **kwargs):\n",
        "        super(F1_Score, self).__init__(name=name, **kwargs)\n",
        "        self.f1_function = create_f1()\n",
        "        self.tp_count = self.add_weight(\"tp_count\", initializer=\"zeros\")\n",
        "        self.all_predicted_positives = self.add_weight('all_predicted_positives', initializer='zeros')\n",
        "        self.all_possible_positives = self.add_weight('all_possible_positives', initializer='zeros')\n",
        "       \n",
        "    def update_state(self, y_true, y_pred,sample_weight=None):\n",
        "        tp, predicted_positives, possible_positives = self.f1_function(y_true, y_pred)\n",
        "        self.tp_count.assign_add(tp)\n",
        "        self.all_predicted_positives.assign_add(predicted_positives)\n",
        "        self.all_possible_positives.assign_add(possible_positives)\n",
        "    \n",
        "    def result(self):\n",
        "        precision = self.tp_count / self.all_predicted_positives\n",
        "        recall = self.tp_count / self.all_possible_positives\n",
        "        f1 = 2*(precision*recall)/(precision+recall)\n",
        "        return f1\n",
        "    "
      ],
      "execution_count": 20,
      "outputs": [
        {
          "output_type": "stream",
          "text": [
            "time: 16.2 ms\n"
          ],
          "name": "stdout"
        }
      ]
    },
    {
      "cell_type": "code",
      "metadata": {
        "id": "P9l8EbG0ur1F",
        "colab": {
          "base_uri": "https://localhost:8080/"
        },
        "outputId": "5c882009-bbbd-4d6a-8e23-53f7e039cea1"
      },
      "source": [
        "def optimize(model):\n",
        "    '''\n",
        "    Input: \n",
        "        Model.\n",
        "    Return: \n",
        "        Complied model.\n",
        "    '''\n",
        "    ## TYPE YOUR CODE for task 8 here:\n",
        "    model.compile(optimizer=Optimizer.Adam(lr=0.01),\n",
        "                  loss='binary_crossentropy',\n",
        "                  #run_eagerly=True,\n",
        "                  metrics = [F1_Score()]\n",
        "                 )\n",
        "    return model\n",
        "\n",
        "model = optimize(model)\n",
        "print(model.summary())\n"
      ],
      "execution_count": 21,
      "outputs": [
        {
          "output_type": "stream",
          "text": [
            "Model: \"functional_1\"\n",
            "_________________________________________________________________\n",
            "Layer (type)                 Output Shape              Param #   \n",
            "=================================================================\n",
            "input_1 (InputLayer)         [(None, None)]            0         \n",
            "_________________________________________________________________\n",
            "embedding (Embedding)        (None, None, 50)          1000000   \n",
            "_________________________________________________________________\n",
            "bidirectional (Bidirectional (None, None, 100)         40400     \n",
            "_________________________________________________________________\n",
            "global_max_pooling1d (Global (None, 100)               0         \n",
            "_________________________________________________________________\n",
            "dense (Dense)                (None, 50)                5050      \n",
            "_________________________________________________________________\n",
            "dropout (Dropout)            (None, 50)                0         \n",
            "_________________________________________________________________\n",
            "dense_1 (Dense)              (None, 2)                 102       \n",
            "=================================================================\n",
            "Total params: 1,045,552\n",
            "Trainable params: 45,552\n",
            "Non-trainable params: 1,000,000\n",
            "_________________________________________________________________\n",
            "None\n",
            "time: 23 ms\n"
          ],
          "name": "stdout"
        }
      ]
    },
    {
      "cell_type": "markdown",
      "metadata": {
        "id": "0BlenccGzLVr"
      },
      "source": [
        "**Task 9**: Setup callback.\n",
        "* Create the [tensorboard callback](https://www.tensorflow.org/tensorboard/tensorboard_in_notebooks) to save the logs.\n",
        "* Create the [checkpoint callback](https://machinelearningmastery.com/check-point-deep-learning-models-keras/) to save the checkpoint with the best accuracy after each epoch.\n",
        "* Create the [ReduceLROnPlateau](https://keras.io/callbacks/#reducelronplateau) callback with factor=0.3, patience=1 and \"Validation F1-score\" monitor.\n",
        "* Create the [early stopping callback](https://keras.io/callbacks/#earlystopping) with patience=7, mode = 'max' and \"Validation F1-score\" monitor.\n",
        "\n"
      ]
    },
    {
      "cell_type": "code",
      "metadata": {
        "id": "I6x6dteutin0",
        "colab": {
          "base_uri": "https://localhost:8080/"
        },
        "outputId": "0b4eab09-31e5-4ef0-d9cd-105656a99abe"
      },
      "source": [
        "def get_best_result(checkpoint_name):\n",
        "    path = checkpoint_name+'**'\n",
        "    all_path_files = glob(path)\n",
        "    results = {}\n",
        "    for file in all_path_files:\n",
        "        results[file] = float(file[-9:-5])\n",
        "    best_file = max(results.items(), key=operator.itemgetter(1))[0]\n",
        "    return best_file\n",
        "\n",
        "def callback_model(checkpoint_name, logdir):\n",
        "    '''\n",
        "    Input: \n",
        "        Best checkpoint name, log dir.\n",
        "    Return: \n",
        "        Callback list, which contains tensorboard callback and checkpoint callback.\n",
        "    '''\n",
        "    ## TYPE YOUR CODE for task 9 here:\n",
        "\n",
        "    logdir = os.path.join(logdir, datetime.datetime.now().strftime(\"%Y%m%d-%H%M%S\"))\n",
        "    tensorboard_callback = TensorBoard(logdir, histogram_freq=1)\n",
        "    \n",
        "    checkpoint_name = checkpoint_name + '-{epoch:02d}-{val_new_f1_score:.3f}.hdf5'\n",
        "    checkpoint = ModelCheckpoint(checkpoint_name,\n",
        "                                 monitor='val_new_f1_score',\n",
        "                                 save_best_only=False,\n",
        "                                 mode='max',\n",
        "                                 verbose=1)\n",
        "    \n",
        "    reduce_lr = ReduceLROnPlateau(monitor='val_new_f1_score',\n",
        "                                  factor=0.3,\n",
        "                                  patience=1,\n",
        "                                  verbose=1)\n",
        "    \n",
        "    early_stopping = EarlyStopping(patience=7,\n",
        "                                   monitor='val_new_f1_score',\n",
        "                                   mode='max',\n",
        "                                   verbose=1)\n",
        "    \n",
        "    callbacks_list = [tensorboard_callback, checkpoint, reduce_lr, early_stopping]\n",
        "    \n",
        "    return callbacks_list\n",
        "\n",
        "#%rmdir /q/s training_logs\n",
        "checkpoint_name = 'weights-improvement'\n",
        "baseDir = os.path.abspath(os.getcwd())\n",
        "logs_name = 'training_logs'\n",
        "logdir = os.path.join(baseDir, logs_name)\n",
        "callbacks_list = callback_model(checkpoint_name, logdir)\n"
      ],
      "execution_count": 22,
      "outputs": [
        {
          "output_type": "stream",
          "text": [
            "time: 266 ms\n"
          ],
          "name": "stdout"
        }
      ]
    },
    {
      "cell_type": "markdown",
      "metadata": {
        "id": "9nDCsHAC2HwW"
      },
      "source": [
        "**Task 10:** Train the model.\n",
        "\n",
        "* Train the model with 20 epochs with batch_size = 4096.\n",
        "* Return the model with best-checkpoint weights.\n",
        "\n",
        "*Hint*: Fit the model first, then reload the model (load_model function) with best-checkpoint weights."
      ]
    },
    {
      "cell_type": "code",
      "metadata": {
        "id": "xttwiHh4u0ES",
        "colab": {
          "base_uri": "https://localhost:8080/"
        },
        "outputId": "31e678b8-9b64-4fb6-9154-525972b48aca"
      },
      "source": [
        "def train_model(model, callbacks_list, skip_training=True):\n",
        "    '''\n",
        "    Input: \n",
        "        Model and callback list,\n",
        "    Return: \n",
        "        Model with best-checkpoint weights.\n",
        "    '''\n",
        "    ## TYPE YOUR CODE for task 10 here:\n",
        "    if not skip_training:\n",
        "        # Clear old folder\n",
        "        %rmdir /q/s {logs_name}\n",
        "        # Clear old file\n",
        "        path = checkpoint_name + '**'\n",
        "        all_path_files = glob(path)\n",
        "        for file in all_path_files:\n",
        "            os.remove(file)\n",
        "        # fit model\n",
        "        model.fit(X_tr, y_tr,\n",
        "                  validation_data=(X_va, y_va),\n",
        "                  batch_size=4096,\n",
        "                  epochs=20,\n",
        "                  callbacks=callbacks_list)\n",
        "\n",
        "        del model\n",
        "        \n",
        "    best_file = get_best_result(checkpoint_name)\n",
        "    model = load_model(best_file, custom_objects={'F1_Score':F1_Score()}) \n",
        "    return model\n"
      ],
      "execution_count": 23,
      "outputs": [
        {
          "output_type": "stream",
          "text": [
            "time: 5.81 ms\n"
          ],
          "name": "stdout"
        }
      ]
    },
    {
      "cell_type": "code",
      "metadata": {
        "id": "iqNu1WGafM4v",
        "outputId": "ba5a8813-c9cf-4c90-d67f-2a47b7efa9ff"
      },
      "source": [
        "# Train model\n",
        "model = create_model(max_len, max_features, embed_size, embedding_matrix)\n",
        "model = optimize(model)\n",
        "model = train_model(model, callbacks_list, skip_training=False)\n"
      ],
      "execution_count": null,
      "outputs": [
        {
          "output_type": "stream",
          "text": [
            "WARNING:tensorflow:Layer lstm_1 will not use cuDNN kernel since it doesn't meet the cuDNN kernel criteria. It will use generic GPU kernel as fallback when running on GPU\n",
            "WARNING:tensorflow:Layer lstm_1 will not use cuDNN kernel since it doesn't meet the cuDNN kernel criteria. It will use generic GPU kernel as fallback when running on GPU\n",
            "WARNING:tensorflow:Layer lstm_1 will not use cuDNN kernel since it doesn't meet the cuDNN kernel criteria. It will use generic GPU kernel as fallback when running on GPU\n",
            "Epoch 1/20\n",
            "  1/287 [..............................] - ETA: 0s - loss: 0.7395 - new_f1_score: 0.1036WARNING:tensorflow:From C:\\ProgramData\\Anaconda3\\envs\\my_d2l\\lib\\site-packages\\tensorflow\\python\\ops\\summary_ops_v2.py:1277: stop (from tensorflow.python.eager.profiler) is deprecated and will be removed after 2020-07-01.\n",
            "Instructions for updating:\n",
            "use `tf.profiler.experimental.stop` instead.\n",
            "287/287 [==============================] - ETA: 0s - loss: 0.1544 - new_f1_score: 0.2214\n",
            "Epoch 00001: saving model to weights-improvement-01-0.533.hdf5\n",
            "287/287 [==============================] - 513s 2s/step - loss: 0.1544 - new_f1_score: 0.2214 - val_loss: 0.1260 - val_new_f1_score: 0.5329\n",
            "Epoch 2/20\n",
            "287/287 [==============================] - ETA: 0s - loss: 0.1244 - new_f1_score: 0.5474\n",
            "Epoch 00002: saving model to weights-improvement-02-0.610.hdf5\n",
            "\n",
            "Epoch 00002: ReduceLROnPlateau reducing learning rate to 0.0029999999329447745.\n",
            "287/287 [==============================] - 508s 2s/step - loss: 0.1244 - new_f1_score: 0.5474 - val_loss: 0.1180 - val_new_f1_score: 0.6098\n",
            "Epoch 3/20\n",
            "287/287 [==============================] - ETA: 0s - loss: 0.1176 - new_f1_score: 0.5821\n",
            "Epoch 00003: saving model to weights-improvement-03-0.602.hdf5\n",
            "\n",
            "Epoch 00003: ReduceLROnPlateau reducing learning rate to 0.0009000000078231095.\n",
            "287/287 [==============================] - 284s 989ms/step - loss: 0.1176 - new_f1_score: 0.5821 - val_loss: 0.1138 - val_new_f1_score: 0.6025\n",
            "Epoch 4/20\n",
            "287/287 [==============================] - ETA: 0s - loss: 0.1151 - new_f1_score: 0.5920\n",
            "Epoch 00004: saving model to weights-improvement-04-0.614.hdf5\n",
            "\n",
            "Epoch 00004: ReduceLROnPlateau reducing learning rate to 0.00026999999536201356.\n",
            "287/287 [==============================] - 231s 806ms/step - loss: 0.1151 - new_f1_score: 0.5920 - val_loss: 0.1131 - val_new_f1_score: 0.6137\n",
            "Epoch 5/20\n",
            "287/287 [==============================] - ETA: 0s - loss: 0.1140 - new_f1_score: 0.5977\n",
            "Epoch 00005: saving model to weights-improvement-05-0.622.hdf5\n",
            "\n",
            "Epoch 00005: ReduceLROnPlateau reducing learning rate to 8.099999686237424e-05.\n",
            "287/287 [==============================] - 222s 773ms/step - loss: 0.1140 - new_f1_score: 0.5977 - val_loss: 0.1131 - val_new_f1_score: 0.6218\n",
            "Epoch 6/20\n",
            "287/287 [==============================] - ETA: 0s - loss: 0.1139 - new_f1_score: 0.5991\n",
            "Epoch 00006: saving model to weights-improvement-06-0.624.hdf5\n",
            "\n",
            "Epoch 00006: ReduceLROnPlateau reducing learning rate to 2.429999949526973e-05.\n",
            "287/287 [==============================] - 228s 796ms/step - loss: 0.1139 - new_f1_score: 0.5991 - val_loss: 0.1131 - val_new_f1_score: 0.6236\n",
            "Epoch 7/20\n",
            "287/287 [==============================] - ETA: 0s - loss: 0.1136 - new_f1_score: 0.5989\n",
            "Epoch 00007: saving model to weights-improvement-07-0.623.hdf5\n",
            "\n",
            "Epoch 00007: ReduceLROnPlateau reducing learning rate to 7.289999848580919e-06.\n",
            "287/287 [==============================] - 218s 761ms/step - loss: 0.1136 - new_f1_score: 0.5989 - val_loss: 0.1130 - val_new_f1_score: 0.6234\n",
            "Epoch 8/20\n",
            "287/287 [==============================] - ETA: 0s - loss: 0.1136 - new_f1_score: 0.5997\n",
            "Epoch 00008: saving model to weights-improvement-08-0.624.hdf5\n",
            "\n",
            "Epoch 00008: ReduceLROnPlateau reducing learning rate to 2.186999927289435e-06.\n",
            "287/287 [==============================] - 215s 748ms/step - loss: 0.1136 - new_f1_score: 0.5997 - val_loss: 0.1130 - val_new_f1_score: 0.6235\n",
            "Epoch 9/20\n",
            "287/287 [==============================] - ETA: 0s - loss: 0.1137 - new_f1_score: 0.5999\n",
            "Epoch 00009: saving model to weights-improvement-09-0.623.hdf5\n",
            "\n",
            "Epoch 00009: ReduceLROnPlateau reducing learning rate to 6.560999509019894e-07.\n",
            "287/287 [==============================] - 220s 767ms/step - loss: 0.1137 - new_f1_score: 0.5999 - val_loss: 0.1130 - val_new_f1_score: 0.6231\n",
            "Epoch 10/20\n",
            "287/287 [==============================] - ETA: 0s - loss: 0.1135 - new_f1_score: 0.5992\n",
            "Epoch 00010: saving model to weights-improvement-10-0.623.hdf5\n",
            "\n",
            "Epoch 00010: ReduceLROnPlateau reducing learning rate to 1.9682997844938655e-07.\n",
            "287/287 [==============================] - 217s 757ms/step - loss: 0.1135 - new_f1_score: 0.5992 - val_loss: 0.1130 - val_new_f1_score: 0.6232\n",
            "Epoch 11/20\n",
            "287/287 [==============================] - ETA: 0s - loss: 0.1137 - new_f1_score: 0.5997\n",
            "Epoch 00011: saving model to weights-improvement-11-0.623.hdf5\n",
            "\n",
            "Epoch 00011: ReduceLROnPlateau reducing learning rate to 5.9048991829513396e-08.\n",
            "287/287 [==============================] - 224s 780ms/step - loss: 0.1137 - new_f1_score: 0.5997 - val_loss: 0.1130 - val_new_f1_score: 0.6232\n",
            "Epoch 12/20\n",
            "287/287 [==============================] - ETA: 0s - loss: 0.1136 - new_f1_score: 0.5990\n",
            "Epoch 00012: saving model to weights-improvement-12-0.623.hdf5\n",
            "\n",
            "Epoch 00012: ReduceLROnPlateau reducing learning rate to 1.771469797517966e-08.\n",
            "287/287 [==============================] - 228s 793ms/step - loss: 0.1136 - new_f1_score: 0.5990 - val_loss: 0.1130 - val_new_f1_score: 0.6232\n",
            "Epoch 13/20\n",
            "287/287 [==============================] - ETA: 0s - loss: 0.1137 - new_f1_score: 0.5996\n",
            "Epoch 00013: saving model to weights-improvement-13-0.623.hdf5\n",
            "\n",
            "Epoch 00013: ReduceLROnPlateau reducing learning rate to 5.314409179391077e-09.\n",
            "287/287 [==============================] - 217s 757ms/step - loss: 0.1137 - new_f1_score: 0.5996 - val_loss: 0.1130 - val_new_f1_score: 0.6232\n",
            "Epoch 00013: early stopping\n",
            "WARNING:tensorflow:Layer lstm_1 will not use cuDNN kernel since it doesn't meet the cuDNN kernel criteria. It will use generic GPU kernel as fallback when running on GPU\n",
            "WARNING:tensorflow:Layer lstm_1 will not use cuDNN kernel since it doesn't meet the cuDNN kernel criteria. It will use generic GPU kernel as fallback when running on GPU\n",
            "WARNING:tensorflow:Layer lstm_1 will not use cuDNN kernel since it doesn't meet the cuDNN kernel criteria. It will use generic GPU kernel as fallback when running on GPU\n",
            "time: 59min 14s\n"
          ],
          "name": "stdout"
        }
      ]
    },
    {
      "cell_type": "code",
      "metadata": {
        "id": "oa88xu-afM4v",
        "outputId": "1916ca2a-6716-4dce-a415-4f3714900539"
      },
      "source": [
        "f1 = model.evaluate(X_te, y_te)\n",
        "f1"
      ],
      "execution_count": null,
      "outputs": [
        {
          "output_type": "stream",
          "text": [
            "2041/2041 [==============================] - 58s 29ms/step - loss: 0.1119 - new_f1_score: 0.6293\n"
          ],
          "name": "stdout"
        },
        {
          "output_type": "execute_result",
          "data": {
            "text/plain": [
              "[0.11188188195228577, 0.629287600517273]"
            ]
          },
          "metadata": {
            "tags": []
          },
          "execution_count": 28
        },
        {
          "output_type": "stream",
          "text": [
            "time: 59.7 s\n"
          ],
          "name": "stdout"
        }
      ]
    },
    {
      "cell_type": "markdown",
      "metadata": {
        "id": "QsG02Ao07Mc-"
      },
      "source": [
        "**Task 11:** Show the tensorboard in the notebook."
      ]
    },
    {
      "cell_type": "code",
      "metadata": {
        "id": "jpBk-EKZ2Ut7",
        "outputId": "a027c379-ac3e-4184-af0f-40bcb7978af9"
      },
      "source": [
        "## TYPE YOUR CODE for task 11 here:\n",
        "if 'COLAB_GPU' in os.environ:\n",
        "    %tensorboard --logdir {logdir}\n",
        "else:\n",
        "    proc = subprocess.Popen([\"tensorboard\", \"--logdir\", logdir])\n",
        "    # wait process\n",
        "    time.sleep(5)\n",
        "    %tensorboard --logdir {logdir}\n",
        "    #%tensorboard --logdir {logdir}\n"
      ],
      "execution_count": null,
      "outputs": [
        {
          "output_type": "display_data",
          "data": {
            "text/plain": [
              "Reusing TensorBoard on port 6006 (pid 10980), started 5 days, 13:21:45 ago. (Use '!kill 10980' to kill it.)"
            ]
          },
          "metadata": {
            "tags": []
          }
        },
        {
          "output_type": "display_data",
          "data": {
            "text/html": [
              "\n",
              "      <iframe id=\"tensorboard-frame-10246eefb77a5c28\" width=\"100%\" height=\"800\" frameborder=\"0\">\n",
              "      </iframe>\n",
              "      <script>\n",
              "        (function() {\n",
              "          const frame = document.getElementById(\"tensorboard-frame-10246eefb77a5c28\");\n",
              "          const url = new URL(\"/\", window.location);\n",
              "          const port = 6006;\n",
              "          if (port) {\n",
              "            url.port = port;\n",
              "          }\n",
              "          frame.src = url;\n",
              "        })();\n",
              "      </script>\n",
              "    "
            ],
            "text/plain": [
              "<IPython.core.display.HTML object>"
            ]
          },
          "metadata": {
            "tags": []
          }
        },
        {
          "output_type": "stream",
          "text": [
            "time: 5.05 s\n"
          ],
          "name": "stdout"
        }
      ]
    },
    {
      "cell_type": "markdown",
      "metadata": {
        "id": "4z1ed1CY8Rxh"
      },
      "source": [
        "**Task 12:** Prediction on test set.\n",
        "\n",
        "* Complete the get_prediction_classes function.\n",
        "* Print out the precision, recall and F1 score."
      ]
    },
    {
      "cell_type": "code",
      "metadata": {
        "id": "gHTjBLZYvx26",
        "outputId": "1faf5d2d-c3e8-43c9-9097-5c73c9281316"
      },
      "source": [
        "def get_prediction_classes(model, X, y):\n",
        "    ## TYPE YOUR CODE for task 13 here:\n",
        "    '''\n",
        "    Input: \n",
        "        Model and prediction dataset.\n",
        "    Return: \n",
        "        Prediction list and groundtrurth list with predicted classes.\n",
        "    '''\n",
        "    groundtruths = np.argmax(y, axis=1) \n",
        "    predictions = model.predict(X)\n",
        "    predictions = np.argmax(predictions, axis=1) \n",
        "    return predictions, groundtruths\n",
        "\n",
        "\n",
        "test_predictions, test_groundtruths = get_prediction_classes(model, X_te, y_te)\n"
      ],
      "execution_count": null,
      "outputs": [
        {
          "output_type": "stream",
          "text": [
            "time: 39.7 s\n"
          ],
          "name": "stdout"
        }
      ]
    },
    {
      "cell_type": "code",
      "metadata": {
        "id": "lP_xhIdVfM4w",
        "outputId": "e4bd800a-03d3-466e-9e80-d8c212fa0439"
      },
      "source": [
        "print(precision_score(test_groundtruths, test_predictions))\n",
        "print(recall_score(test_groundtruths, test_predictions))\n",
        "print(f1_score(test_groundtruths, test_predictions))\n"
      ],
      "execution_count": null,
      "outputs": [
        {
          "output_type": "stream",
          "text": [
            "0.6657381615598886\n",
            "0.6505815392229646\n",
            "0.6580725907384231\n",
            "time: 47 ms\n"
          ],
          "name": "stdout"
        }
      ]
    },
    {
      "cell_type": "markdown",
      "metadata": {
        "id": "JJwQahjp8hZs"
      },
      "source": [
        "**Task 13:** Perform the predicted result on test set using confusion matrix. Remember to show the class name in the confusion matrix."
      ]
    },
    {
      "cell_type": "code",
      "metadata": {
        "id": "5KKAmOGvv2Be",
        "outputId": "e8d3665f-b39a-48b6-8dc8-a3a43a9ab361"
      },
      "source": [
        "sns.set(font_scale=1.2, style='dark')\n",
        "def plot_confusion_matrix(predictions, groundtruth, class_names):\n",
        "    ## TYPE YOUR CODE for task 13 here:\n",
        "    cm = confusion_matrix(groundtruth, predictions, normalize=None)\n",
        "    cm_rate = cm / np.sum(cm) #confusion_matrix(groundtruth, predictions, normalize='true')\n",
        "    \n",
        "    values = ['{0:0.0f}'.format(value) for value in cm.flatten()] \n",
        "    percentages = [\"{0:.2%}\".format(value) for value in cm_rate.flatten()]\n",
        "    tf_label = ['TN', 'FP', 'FN', 'TP']\n",
        "    labels = [f'{l}\\n{v}\\n({p})' for l, v, p in zip(tf_label, values, percentages)]\n",
        "    labels = np.array(labels).reshape(2, 2)\n",
        "    \n",
        "    plt.figure(figsize=(9, 7))\n",
        "    sns.heatmap(cm, annot=labels, fmt=\"\", annot_kws={\"size\": 13}, xticklabels=class_names, yticklabels=class_names, linewidths=1) \n",
        "    plt.title('Confusion matrix', y=1.02, size=15)\n",
        "    plt.xlabel('Predicted label')\n",
        "    plt.ylabel('True label')\n",
        "    plt.yticks(rotation=0)\n",
        "    plt.show()\n",
        "    \n",
        "class_names = ['valid', 'invalid']\n",
        "plot_confusion_matrix(test_predictions, test_groundtruths, class_names)\n"
      ],
      "execution_count": null,
      "outputs": [
        {
          "output_type": "display_data",
          "data": {
            "image/png": "[encoded data removed]",
            "text/plain": [
              "<Figure size 648x504 with 2 Axes>"
            ]
          },
          "metadata": {
            "tags": []
          }
        },
        {
          "output_type": "stream",
          "text": [
            "time: 375 ms\n"
          ],
          "name": "stdout"
        }
      ]
    },
    {
      "cell_type": "markdown",
      "metadata": {
        "id": "fGmUAFDi87Z6"
      },
      "source": [
        "**Task 14**: Model finetuning - fine tune the model using some of these approachs:\n",
        "* Increase max epochs, change batch size.\n",
        "* Replace LSTM by GRU units and check if it changes anything.\n",
        "* Add another layer of LSTM/GRU, see if things improve.\n",
        "* Play around with Dense layers (add/# units/etc).\n",
        "* Find preprocessing rules you could add to improve the quality of the data.\n",
        "* Find another GloVe dictionary.\n",
        "Requirement: The F1 score should increase by 2-3%."
      ]
    },
    {
      "cell_type": "markdown",
      "metadata": {
        "id": "ELLyczmROE8J"
      },
      "source": [
        "#### Dowload new dictionary - spacy (a language_model of 300-dimensional GloVe vectors)"
      ]
    },
    {
      "cell_type": "code",
      "metadata": {
        "colab": {
          "base_uri": "https://localhost:8080/"
        },
        "id": "e4ucZ4QcfM4x",
        "outputId": "8a414a68-bbd9-4c54-fb0c-c3786c243524"
      },
      "source": [
        "!python -m spacy download en_vectors_web_lg"
      ],
      "execution_count": 25,
      "outputs": [
        {
          "output_type": "stream",
          "text": [
            "Requirement already satisfied: en_vectors_web_lg==2.1.0 from https://github.com/explosion/spacy-models/releases/download/en_vectors_web_lg-2.1.0/en_vectors_web_lg-2.1.0.tar.gz#egg=en_vectors_web_lg==2.1.0 in /usr/local/lib/python3.6/dist-packages (2.1.0)\n",
            "Requirement already satisfied: spacy<3.0.0,>=2.1.0 in /usr/local/lib/python3.6/dist-packages (from en_vectors_web_lg==2.1.0) (2.2.4)\n",
            "Requirement already satisfied: blis<0.5.0,>=0.4.0 in /usr/local/lib/python3.6/dist-packages (from spacy<3.0.0,>=2.1.0->en_vectors_web_lg==2.1.0) (0.4.1)\n",
            "Requirement already satisfied: cymem<2.1.0,>=2.0.2 in /usr/local/lib/python3.6/dist-packages (from spacy<3.0.0,>=2.1.0->en_vectors_web_lg==2.1.0) (2.0.4)\n",
            "Requirement already satisfied: plac<1.2.0,>=0.9.6 in /usr/local/lib/python3.6/dist-packages (from spacy<3.0.0,>=2.1.0->en_vectors_web_lg==2.1.0) (1.1.3)\n",
            "Requirement already satisfied: numpy>=1.15.0 in /usr/local/lib/python3.6/dist-packages (from spacy<3.0.0,>=2.1.0->en_vectors_web_lg==2.1.0) (1.18.5)\n",
            "Requirement already satisfied: thinc==7.4.0 in /usr/local/lib/python3.6/dist-packages (from spacy<3.0.0,>=2.1.0->en_vectors_web_lg==2.1.0) (7.4.0)\n",
            "Requirement already satisfied: requests<3.0.0,>=2.13.0 in /usr/local/lib/python3.6/dist-packages (from spacy<3.0.0,>=2.1.0->en_vectors_web_lg==2.1.0) (2.23.0)\n",
            "Requirement already satisfied: wasabi<1.1.0,>=0.4.0 in /usr/local/lib/python3.6/dist-packages (from spacy<3.0.0,>=2.1.0->en_vectors_web_lg==2.1.0) (0.8.0)\n",
            "Requirement already satisfied: setuptools in /usr/local/lib/python3.6/dist-packages (from spacy<3.0.0,>=2.1.0->en_vectors_web_lg==2.1.0) (50.3.2)\n",
            "Requirement already satisfied: preshed<3.1.0,>=3.0.2 in /usr/local/lib/python3.6/dist-packages (from spacy<3.0.0,>=2.1.0->en_vectors_web_lg==2.1.0) (3.0.4)\n",
            "Requirement already satisfied: catalogue<1.1.0,>=0.0.7 in /usr/local/lib/python3.6/dist-packages (from spacy<3.0.0,>=2.1.0->en_vectors_web_lg==2.1.0) (1.0.0)\n",
            "Requirement already satisfied: tqdm<5.0.0,>=4.38.0 in /usr/local/lib/python3.6/dist-packages (from spacy<3.0.0,>=2.1.0->en_vectors_web_lg==2.1.0) (4.41.1)\n",
            "Requirement already satisfied: murmurhash<1.1.0,>=0.28.0 in /usr/local/lib/python3.6/dist-packages (from spacy<3.0.0,>=2.1.0->en_vectors_web_lg==2.1.0) (1.0.4)\n",
            "Requirement already satisfied: srsly<1.1.0,>=1.0.2 in /usr/local/lib/python3.6/dist-packages (from spacy<3.0.0,>=2.1.0->en_vectors_web_lg==2.1.0) (1.0.4)\n",
            "Requirement already satisfied: certifi>=2017.4.17 in /usr/local/lib/python3.6/dist-packages (from requests<3.0.0,>=2.13.0->spacy<3.0.0,>=2.1.0->en_vectors_web_lg==2.1.0) (2020.11.8)\n",
            "Requirement already satisfied: chardet<4,>=3.0.2 in /usr/local/lib/python3.6/dist-packages (from requests<3.0.0,>=2.13.0->spacy<3.0.0,>=2.1.0->en_vectors_web_lg==2.1.0) (3.0.4)\n",
            "Requirement already satisfied: urllib3!=1.25.0,!=1.25.1,<1.26,>=1.21.1 in /usr/local/lib/python3.6/dist-packages (from requests<3.0.0,>=2.13.0->spacy<3.0.0,>=2.1.0->en_vectors_web_lg==2.1.0) (1.24.3)\n",
            "Requirement already satisfied: idna<3,>=2.5 in /usr/local/lib/python3.6/dist-packages (from requests<3.0.0,>=2.13.0->spacy<3.0.0,>=2.1.0->en_vectors_web_lg==2.1.0) (2.10)\n",
            "Requirement already satisfied: importlib-metadata>=0.20; python_version < \"3.8\" in /usr/local/lib/python3.6/dist-packages (from catalogue<1.1.0,>=0.0.7->spacy<3.0.0,>=2.1.0->en_vectors_web_lg==2.1.0) (2.0.0)\n",
            "Requirement already satisfied: zipp>=0.5 in /usr/local/lib/python3.6/dist-packages (from importlib-metadata>=0.20; python_version < \"3.8\"->catalogue<1.1.0,>=0.0.7->spacy<3.0.0,>=2.1.0->en_vectors_web_lg==2.1.0) (3.4.0)\n",
            "\u001b[38;5;2m✔ Download and installation successful\u001b[0m\n",
            "You can now load the model via spacy.load('en_vectors_web_lg')\n",
            "time: 3.56 s\n"
          ],
          "name": "stdout"
        }
      ]
    },
    {
      "cell_type": "code",
      "metadata": {
        "colab": {
          "base_uri": "https://localhost:8080/"
        },
        "id": "i0i0y-4CfM4y",
        "outputId": "67765f7d-e230-439e-94b4-8cb75d00d039"
      },
      "source": [
        "# load spacy dict\n",
        "import en_vectors_web_lg\n",
        "\n",
        "language_model = en_vectors_web_lg.load()  \n",
        "spacy_dict = {}\n",
        "for key, vector in language_model.vocab.vectors.items():\n",
        "    try:\n",
        "        word_string = language_model.vocab.strings[key]\n",
        "        spacy_dict[word_string] = vector\n",
        "\n",
        "    except KeyError:\n",
        "        print(key)\n",
        "        continue\n",
        "        "
      ],
      "execution_count": 26,
      "outputs": [
        {
          "output_type": "stream",
          "text": [
            "4035656307355538346\n",
            "4183861688597294412\n",
            "9493573674140310719\n",
            "11580349482641876976\n",
            "time: 10.7 s\n"
          ],
          "name": "stdout"
        }
      ]
    },
    {
      "cell_type": "code",
      "metadata": {
        "id": "_VLdY3hgfM4y"
      },
      "source": [
        "# Check\n",
        "print(' shape of vector', spacy_dict['the'].shape)\n",
        "spacy_dict['the']"
      ],
      "execution_count": null,
      "outputs": []
    },
    {
      "cell_type": "code",
      "metadata": {
        "colab": {
          "base_uri": "https://localhost:8080/"
        },
        "id": "_UhwOPSVfM4y",
        "outputId": "adee025a-4e71-4edc-df3d-d122c1ec31d7"
      },
      "source": [
        "# Init parameters, setup folder\n",
        "embed_size = 300 \n",
        "max_features = 50000 \n",
        "max_len = 100 \n",
        "\n",
        "checkpoint_name = 'new_weights-improvement'\n",
        "baseDir = os.path.abspath(os.getcwd())\n",
        "logs_name = 'new_training_logs'\n",
        "logdir = os.path.join(baseDir, logs_name)\n",
        "callbacks_list = callback_model(checkpoint_name, logdir)\n"
      ],
      "execution_count": 37,
      "outputs": [
        {
          "output_type": "stream",
          "text": [
            "time: 4.14 ms\n"
          ],
          "name": "stdout"
        }
      ]
    },
    {
      "cell_type": "code",
      "metadata": {
        "colab": {
          "base_uri": "https://localhost:8080/"
        },
        "id": "hZbW62M1wc6g",
        "outputId": "5106ec4d-52e4-412a-c953-118674a0a3e6"
      },
      "source": [
        "# Create new data and new tokenizer\r\n",
        "X_tr, X_va, X_te, y_tr, y_va, y_te, tokenizer = encoding_textdata(train_set, validation_set, test_set, max_features, max_len)\r\n",
        "X_tr.shape"
      ],
      "execution_count": 38,
      "outputs": [
        {
          "output_type": "execute_result",
          "data": {
            "text/plain": [
              "(1175509, 120)"
            ]
          },
          "metadata": {
            "tags": []
          },
          "execution_count": 38
        },
        {
          "output_type": "stream",
          "text": [
            "time: 42 s\n"
          ],
          "name": "stdout"
        }
      ]
    },
    {
      "cell_type": "code",
      "metadata": {
        "colab": {
          "base_uri": "https://localhost:8080/"
        },
        "id": "dfDjDgKsfM4y",
        "outputId": "4fce560b-c716-42ea-df04-20a2749b4dd0"
      },
      "source": [
        "# Create new embedding maxtrix\n",
        "spacy_embedding_matrix = create_embedding_matrix(spacy_dict, tokenizer, max_features)\n",
        "spacy_embedding_matrix.shape"
      ],
      "execution_count": 39,
      "outputs": [
        {
          "output_type": "stream",
          "text": [
            "/usr/local/lib/python3.6/dist-packages/ipykernel_launcher.py:9: FutureWarning: arrays to stack must be passed as a \"sequence\" type such as list or tuple. Support for non-sequence iterables such as generators is deprecated as of NumPy 1.16 and will raise an error in the future.\n",
            "  if __name__ == '__main__':\n"
          ],
          "name": "stderr"
        },
        {
          "output_type": "execute_result",
          "data": {
            "text/plain": [
              "(50000, 300)"
            ]
          },
          "metadata": {
            "tags": []
          },
          "execution_count": 39
        },
        {
          "output_type": "stream",
          "text": [
            "time: 5.41 s\n"
          ],
          "name": "stdout"
        }
      ]
    },
    {
      "cell_type": "code",
      "metadata": {
        "colab": {
          "base_uri": "https://localhost:8080/"
        },
        "id": "Z1a3xxeHfM4y",
        "outputId": "34a0dc8d-afab-407c-f819-276465970056"
      },
      "source": [
        "# Train model with new embedding maxtrix\n",
        "new_model = create_model(max_len, max_features, embed_size, spacy_embedding_matrix)\n",
        "new_model = optimize(new_model)\n",
        "new_model = train_model(new_model, callbacks_list, skip_training=False)\n"
      ],
      "execution_count": 40,
      "outputs": [
        {
          "output_type": "stream",
          "text": [
            "WARNING:tensorflow:Layer lstm_3 will not use cuDNN kernel since it doesn't meet the cuDNN kernel criteria. It will use generic GPU kernel as fallback when running on GPU\n",
            "WARNING:tensorflow:Layer lstm_3 will not use cuDNN kernel since it doesn't meet the cuDNN kernel criteria. It will use generic GPU kernel as fallback when running on GPU\n",
            "WARNING:tensorflow:Layer lstm_3 will not use cuDNN kernel since it doesn't meet the cuDNN kernel criteria. It will use generic GPU kernel as fallback when running on GPU\n",
            "rmdir: failed to remove '/q/s': No such file or directory\n",
            "rmdir: failed to remove 'new_training_logs': Directory not empty\n",
            "Epoch 1/20\n",
            "  2/287 [..............................] - ETA: 18:39 - loss: 0.4640 - new_f1_score: nanWARNING:tensorflow:Callbacks method `on_train_batch_end` is slow compared to the batch time (batch time: 1.9394s vs `on_train_batch_end` time: 5.9162s). Check your callbacks.\n",
            "287/287 [==============================] - ETA: 0s - loss: 0.1302 - new_f1_score: 0.4418\n",
            "Epoch 00001: saving model to new_weights-improvement-01-0.601.hdf5\n",
            "287/287 [==============================] - 379s 1s/step - loss: 0.1302 - new_f1_score: 0.4418 - val_loss: 0.1108 - val_new_f1_score: 0.6014\n",
            "Epoch 2/20\n",
            "287/287 [==============================] - ETA: 0s - loss: 0.1086 - new_f1_score: 0.6272\n",
            "Epoch 00002: saving model to new_weights-improvement-02-0.648.hdf5\n",
            "\n",
            "Epoch 00002: ReduceLROnPlateau reducing learning rate to 0.0029999999329447745.\n",
            "287/287 [==============================] - 370s 1s/step - loss: 0.1086 - new_f1_score: 0.6272 - val_loss: 0.1059 - val_new_f1_score: 0.6481\n",
            "Epoch 3/20\n",
            "287/287 [==============================] - ETA: 0s - loss: 0.1005 - new_f1_score: 0.6575\n",
            "Epoch 00003: saving model to new_weights-improvement-03-0.659.hdf5\n",
            "\n",
            "Epoch 00003: ReduceLROnPlateau reducing learning rate to 0.0009000000078231095.\n",
            "287/287 [==============================] - 368s 1s/step - loss: 0.1005 - new_f1_score: 0.6575 - val_loss: 0.1034 - val_new_f1_score: 0.6592\n",
            "Epoch 4/20\n",
            "287/287 [==============================] - ETA: 0s - loss: 0.0967 - new_f1_score: 0.6733\n",
            "Epoch 00004: saving model to new_weights-improvement-04-0.660.hdf5\n",
            "\n",
            "Epoch 00004: ReduceLROnPlateau reducing learning rate to 0.00026999999536201356.\n",
            "287/287 [==============================] - 366s 1s/step - loss: 0.0967 - new_f1_score: 0.6733 - val_loss: 0.1030 - val_new_f1_score: 0.6599\n",
            "Epoch 5/20\n",
            "287/287 [==============================] - ETA: 0s - loss: 0.0951 - new_f1_score: 0.6794\n",
            "Epoch 00005: saving model to new_weights-improvement-05-0.660.hdf5\n",
            "\n",
            "Epoch 00005: ReduceLROnPlateau reducing learning rate to 8.099999686237424e-05.\n",
            "287/287 [==============================] - 365s 1s/step - loss: 0.0951 - new_f1_score: 0.6794 - val_loss: 0.1031 - val_new_f1_score: 0.6605\n",
            "Epoch 6/20\n",
            "287/287 [==============================] - ETA: 0s - loss: 0.0947 - new_f1_score: 0.6818\n",
            "Epoch 00006: saving model to new_weights-improvement-06-0.663.hdf5\n",
            "\n",
            "Epoch 00006: ReduceLROnPlateau reducing learning rate to 2.429999949526973e-05.\n",
            "287/287 [==============================] - 364s 1s/step - loss: 0.0947 - new_f1_score: 0.6818 - val_loss: 0.1031 - val_new_f1_score: 0.6632\n",
            "Epoch 7/20\n",
            "287/287 [==============================] - ETA: 0s - loss: 0.0945 - new_f1_score: 0.6826\n",
            "Epoch 00007: saving model to new_weights-improvement-07-0.663.hdf5\n",
            "\n",
            "Epoch 00007: ReduceLROnPlateau reducing learning rate to 7.289999848580919e-06.\n",
            "287/287 [==============================] - 362s 1s/step - loss: 0.0945 - new_f1_score: 0.6826 - val_loss: 0.1031 - val_new_f1_score: 0.6630\n",
            "Epoch 8/20\n",
            "287/287 [==============================] - ETA: 0s - loss: 0.0946 - new_f1_score: 0.6827\n",
            "Epoch 00008: saving model to new_weights-improvement-08-0.663.hdf5\n",
            "\n",
            "Epoch 00008: ReduceLROnPlateau reducing learning rate to 2.186999927289435e-06.\n",
            "287/287 [==============================] - 363s 1s/step - loss: 0.0946 - new_f1_score: 0.6827 - val_loss: 0.1031 - val_new_f1_score: 0.6630\n",
            "Epoch 9/20\n",
            "287/287 [==============================] - ETA: 0s - loss: 0.0945 - new_f1_score: 0.6825\n",
            "Epoch 00009: saving model to new_weights-improvement-09-0.663.hdf5\n",
            "\n",
            "Epoch 00009: ReduceLROnPlateau reducing learning rate to 6.560999509019894e-07.\n",
            "287/287 [==============================] - 361s 1s/step - loss: 0.0945 - new_f1_score: 0.6825 - val_loss: 0.1031 - val_new_f1_score: 0.6630\n",
            "Epoch 10/20\n",
            "287/287 [==============================] - ETA: 0s - loss: 0.0945 - new_f1_score: 0.6825\n",
            "Epoch 00010: saving model to new_weights-improvement-10-0.663.hdf5\n",
            "\n",
            "Epoch 00010: ReduceLROnPlateau reducing learning rate to 1.9682997844938655e-07.\n",
            "287/287 [==============================] - 364s 1s/step - loss: 0.0945 - new_f1_score: 0.6825 - val_loss: 0.1031 - val_new_f1_score: 0.6630\n",
            "Epoch 11/20\n",
            "287/287 [==============================] - ETA: 0s - loss: 0.0945 - new_f1_score: 0.6820\n",
            "Epoch 00011: saving model to new_weights-improvement-11-0.663.hdf5\n",
            "\n",
            "Epoch 00011: ReduceLROnPlateau reducing learning rate to 5.9048991829513396e-08.\n",
            "287/287 [==============================] - 365s 1s/step - loss: 0.0945 - new_f1_score: 0.6820 - val_loss: 0.1031 - val_new_f1_score: 0.6632\n",
            "Epoch 12/20\n",
            "287/287 [==============================] - ETA: 0s - loss: 0.0945 - new_f1_score: 0.6822\n",
            "Epoch 00012: saving model to new_weights-improvement-12-0.663.hdf5\n",
            "\n",
            "Epoch 00012: ReduceLROnPlateau reducing learning rate to 1.771469797517966e-08.\n",
            "287/287 [==============================] - 362s 1s/step - loss: 0.0945 - new_f1_score: 0.6822 - val_loss: 0.1031 - val_new_f1_score: 0.6632\n",
            "Epoch 13/20\n",
            "287/287 [==============================] - ETA: 0s - loss: 0.0945 - new_f1_score: 0.6824\n",
            "Epoch 00013: saving model to new_weights-improvement-13-0.663.hdf5\n",
            "\n",
            "Epoch 00013: ReduceLROnPlateau reducing learning rate to 5.314409179391077e-09.\n",
            "287/287 [==============================] - 363s 1s/step - loss: 0.0945 - new_f1_score: 0.6824 - val_loss: 0.1031 - val_new_f1_score: 0.6632\n",
            "Epoch 14/20\n",
            "287/287 [==============================] - ETA: 0s - loss: 0.0944 - new_f1_score: 0.6819\n",
            "Epoch 00014: saving model to new_weights-improvement-14-0.663.hdf5\n",
            "\n",
            "Epoch 00014: ReduceLROnPlateau reducing learning rate to 1.5943228071080283e-09.\n",
            "287/287 [==============================] - 363s 1s/step - loss: 0.0944 - new_f1_score: 0.6819 - val_loss: 0.1031 - val_new_f1_score: 0.6632\n",
            "Epoch 15/20\n",
            "287/287 [==============================] - ETA: 0s - loss: 0.0945 - new_f1_score: 0.6819\n",
            "Epoch 00015: saving model to new_weights-improvement-15-0.663.hdf5\n",
            "\n",
            "Epoch 00015: ReduceLROnPlateau reducing learning rate to 4.782968354710703e-10.\n",
            "287/287 [==============================] - 364s 1s/step - loss: 0.0945 - new_f1_score: 0.6819 - val_loss: 0.1031 - val_new_f1_score: 0.6632\n",
            "Epoch 16/20\n",
            "287/287 [==============================] - ETA: 0s - loss: 0.0945 - new_f1_score: 0.6819\n",
            "Epoch 00016: saving model to new_weights-improvement-16-0.663.hdf5\n",
            "\n",
            "Epoch 00016: ReduceLROnPlateau reducing learning rate to 1.434890539719902e-10.\n",
            "287/287 [==============================] - 365s 1s/step - loss: 0.0945 - new_f1_score: 0.6819 - val_loss: 0.1031 - val_new_f1_score: 0.6632\n",
            "Epoch 17/20\n",
            "287/287 [==============================] - ETA: 0s - loss: 0.0945 - new_f1_score: 0.6830\n",
            "Epoch 00017: saving model to new_weights-improvement-17-0.663.hdf5\n",
            "\n",
            "Epoch 00017: ReduceLROnPlateau reducing learning rate to 4.3046716191597054e-11.\n",
            "287/287 [==============================] - 364s 1s/step - loss: 0.0945 - new_f1_score: 0.6830 - val_loss: 0.1031 - val_new_f1_score: 0.6632\n",
            "Epoch 18/20\n",
            "287/287 [==============================] - ETA: 0s - loss: 0.0945 - new_f1_score: 0.6825\n",
            "Epoch 00018: saving model to new_weights-improvement-18-0.663.hdf5\n",
            "\n",
            "Epoch 00018: ReduceLROnPlateau reducing learning rate to 1.2914014649312299e-11.\n",
            "287/287 [==============================] - 363s 1s/step - loss: 0.0945 - new_f1_score: 0.6825 - val_loss: 0.1031 - val_new_f1_score: 0.6632\n",
            "Epoch 00018: early stopping\n",
            "WARNING:tensorflow:Layer lstm_3 will not use cuDNN kernel since it doesn't meet the cuDNN kernel criteria. It will use generic GPU kernel as fallback when running on GPU\n",
            "WARNING:tensorflow:Layer lstm_3 will not use cuDNN kernel since it doesn't meet the cuDNN kernel criteria. It will use generic GPU kernel as fallback when running on GPU\n",
            "WARNING:tensorflow:Layer lstm_3 will not use cuDNN kernel since it doesn't meet the cuDNN kernel criteria. It will use generic GPU kernel as fallback when running on GPU\n",
            "time: 1h 49min 59s\n"
          ],
          "name": "stdout"
        }
      ]
    },
    {
      "cell_type": "code",
      "metadata": {
        "colab": {
          "base_uri": "https://localhost:8080/"
        },
        "id": "EflpBKYcfM4z",
        "outputId": "e52b7d6a-8ef5-4245-bea4-1dfcd474fe98"
      },
      "source": [
        "# Evaluate model\n",
        "_, f1 = new_model.evaluate(X_te, y_te)\n",
        "f1"
      ],
      "execution_count": 41,
      "outputs": [
        {
          "output_type": "stream",
          "text": [
            "2041/2041 [==============================] - 201s 99ms/step - loss: 0.1022 - new_f1_score: 0.6638\n"
          ],
          "name": "stdout"
        },
        {
          "output_type": "execute_result",
          "data": {
            "text/plain": [
              "0.6638029217720032"
            ]
          },
          "metadata": {
            "tags": []
          },
          "execution_count": 41
        },
        {
          "output_type": "stream",
          "text": [
            "time: 3min 21s\n"
          ],
          "name": "stdout"
        }
      ]
    }
  ]
}